{
 "cells": [
  {
   "cell_type": "markdown",
   "id": "11f5ba47-cd31-45fc-bd87-822336de8143",
   "metadata": {},
   "source": [
    "# Funciones"
   ]
  },
  {
   "cell_type": "markdown",
   "id": "cd3be13a-ddcd-4e23-9da0-715e09f0e62c",
   "metadata": {},
   "source": [
    "Son tambien conocidas como subrutinas, con el particular que devuelven algun valor. Aunque en Python una funcion como tal no necesariamente debe devolver algun valor. Por otra parte, una funcion tambien puede recibir valores de entrada (parametros) pero no es necesario que todas las funciones tengan algun parametro.\n",
    "\n",
    "Son, en pocas palabras, algun bloque de codigo que es ejecutado al ser invocado por algun otro metodo siendo ejecutado."
   ]
  },
  {
   "cell_type": "code",
   "execution_count": 1,
   "id": "0d30e38c-3b61-4b05-bde8-f0fa228a6abd",
   "metadata": {},
   "outputs": [
    {
     "name": "stdout",
     "output_type": "stream",
     "text": [
      "Hola mundo!\n"
     ]
    }
   ],
   "source": [
    "#Ejemplo, funcion print\n",
    "print(\"Hola mundo!\")"
   ]
  },
  {
   "cell_type": "code",
   "execution_count": 2,
   "id": "5d0530a2-3c01-4890-86a8-e2b961faf632",
   "metadata": {},
   "outputs": [
    {
     "name": "stdout",
     "output_type": "stream",
     "text": [
      "La suma entre 5 y 10 es 15\n"
     ]
    }
   ],
   "source": [
    "#Ejemplo, funcion creada por usuario\n",
    "def sum(a, b):\n",
    "    return a + b\n",
    "\n",
    "a = 5\n",
    "b = 10\n",
    "print(f\"La suma entre {a} y {b} es {sum(a,b)}\")"
   ]
  },
  {
   "cell_type": "code",
   "execution_count": 3,
   "id": "2945428e-deca-4e42-8e58-c3e9a2c57431",
   "metadata": {},
   "outputs": [
    {
     "name": "stdout",
     "output_type": "stream",
     "text": [
      "foo\n",
      "bar\n"
     ]
    }
   ],
   "source": [
    "#Ejemplo, funcion que no necesita parametros\n",
    "def foobar():\n",
    "    print(\"foo\")\n",
    "    print(\"bar\")\n",
    "    \n",
    "foobar()"
   ]
  },
  {
   "cell_type": "markdown",
   "id": "1ae83ac6-0fcf-49a1-bf31-0855be522183",
   "metadata": {},
   "source": [
    "# Parametros posicionales"
   ]
  },
  {
   "cell_type": "markdown",
   "id": "b17b9fda-05c2-4b24-8c27-bbc67a7e3b6d",
   "metadata": {},
   "source": [
    "Se trata de parametros de una funcion cuya posicion en la linea de argumentos _es_ importante"
   ]
  },
  {
   "cell_type": "code",
   "execution_count": 4,
   "id": "46bd3fd7-b641-4852-aa72-fe1b0ba8f881",
   "metadata": {},
   "outputs": [
    {
     "ename": "TypeError",
     "evalue": "'str' object cannot be interpreted as an integer",
     "output_type": "error",
     "traceback": [
      "\u001b[1;31m---------------------------------------------------------------------------\u001b[0m",
      "\u001b[1;31mTypeError\u001b[0m                                 Traceback (most recent call last)",
      "\u001b[1;32m~\\AppData\\Local\\Temp/ipykernel_12160/407119331.py\u001b[0m in \u001b[0;36m<module>\u001b[1;34m\u001b[0m\n\u001b[0;32m      1\u001b[0m \u001b[1;31m#Ejemplo, uso incorrecto de orden de parametros posicionales\u001b[0m\u001b[1;33m\u001b[0m\u001b[1;33m\u001b[0m\u001b[0m\n\u001b[0;32m      2\u001b[0m \u001b[0ma_text\u001b[0m \u001b[1;33m=\u001b[0m \u001b[1;34m\"Lorem ipsum dolor sit amet, consectetur adipiscing elit.\"\u001b[0m\u001b[1;33m\u001b[0m\u001b[1;33m\u001b[0m\u001b[0m\n\u001b[1;32m----> 3\u001b[1;33m \u001b[0ma_text\u001b[0m\u001b[1;33m.\u001b[0m\u001b[0mrsplit\u001b[0m\u001b[1;33m(\u001b[0m\u001b[1;36m2\u001b[0m\u001b[1;33m,\u001b[0m \u001b[1;34m' '\u001b[0m\u001b[1;33m)\u001b[0m\u001b[1;33m\u001b[0m\u001b[1;33m\u001b[0m\u001b[0m\n\u001b[0m",
      "\u001b[1;31mTypeError\u001b[0m: 'str' object cannot be interpreted as an integer"
     ]
    }
   ],
   "source": [
    "#Ejemplo, uso incorrecto de orden de parametros posicionales\n",
    "a_text = \"Lorem ipsum dolor sit amet, consectetur adipiscing elit.\"\n",
    "a_text.rsplit(2, ' ')"
   ]
  },
  {
   "cell_type": "code",
   "execution_count": 5,
   "id": "2c7d3f83-e01d-46ad-8190-812b1d3fb092",
   "metadata": {},
   "outputs": [
    {
     "data": {
      "text/plain": [
       "['Lorem ipsum dolor sit amet, consectetur', 'adipiscing', 'elit.']"
      ]
     },
     "execution_count": 5,
     "metadata": {},
     "output_type": "execute_result"
    }
   ],
   "source": [
    "#Ejemplo, uso correcto de orden de parametros posicionales\n",
    "a_text = \"Lorem ipsum dolor sit amet, consectetur adipiscing elit.\"\n",
    "a_text.rsplit(' ', 2)"
   ]
  },
  {
   "cell_type": "markdown",
   "id": "4540bcb3-6d06-45cf-b7ca-54c504b3ba0e",
   "metadata": {},
   "source": [
    "# Parametros nombrados"
   ]
  },
  {
   "cell_type": "markdown",
   "id": "f8709d40-c183-4c42-a4a5-02e405eb4677",
   "metadata": {},
   "source": [
    "Estos parametros se caracterizan porque su orden no importa, ya que existe un keyword que identifica exactamente que valor hace referencia a cual parametro de la funcion"
   ]
  },
  {
   "cell_type": "code",
   "execution_count": 6,
   "id": "9cb14dc3-3dbe-4c23-b563-58364946f1b6",
   "metadata": {},
   "outputs": [],
   "source": [
    "#Ejemplo de uso de parametros nombrados"
   ]
  },
  {
   "cell_type": "code",
   "execution_count": 7,
   "id": "2278d78e-1368-4eff-ad68-bd2c1e339f17",
   "metadata": {},
   "outputs": [
    {
     "data": {
      "text/plain": [
       "['Lorem ipsum dolor sit amet, consectetur', 'adipiscing', 'elit.']"
      ]
     },
     "execution_count": 7,
     "metadata": {},
     "output_type": "execute_result"
    }
   ],
   "source": [
    "#Ejemplo, uso incorrecto de orden de parametros posicionales\n",
    "a_text = \"Lorem ipsum dolor sit amet, consectetur adipiscing elit.\"\n",
    "a_text.rsplit(maxsplit=2, sep=' ')"
   ]
  },
  {
   "cell_type": "markdown",
   "id": "f3ccac35-d9cd-4ee2-908f-7664085bdc3b",
   "metadata": {},
   "source": [
    "El orden de los parametros es el mismo al del ejemplo de uso incorrecto de parametros posicionales, pero esta vez si funciona la funcion, esto es porque los parametros estan nombras y el interprete no depende del orden de los parametros para identificarlos"
   ]
  },
  {
   "cell_type": "markdown",
   "id": "926dc620-9be2-415a-888f-6b9dc335e7c1",
   "metadata": {},
   "source": [
    "# Retorno de multiples valores"
   ]
  },
  {
   "cell_type": "markdown",
   "id": "c12d04a2-69c5-41ab-b8cb-f8230b7d5bed",
   "metadata": {},
   "source": [
    "Existen funciones que pueden devolver mas de un solo valor y estos pueden capturarse en una sola linea de codigo al separar las variables receptoras por una coma antes de invocar la funcion y hacer la asignacion"
   ]
  },
  {
   "cell_type": "code",
   "execution_count": 8,
   "id": "b0d86aa7-625d-44c9-910b-6a61212864fd",
   "metadata": {},
   "outputs": [
    {
     "name": "stdout",
     "output_type": "stream",
     "text": [
      "Suma: 15, resta: 5, producto 50\n"
     ]
    }
   ],
   "source": [
    "#Ejemplo\n",
    "def multiarithmetic(a,b):\n",
    "    summ = a+b\n",
    "    sub = a-b\n",
    "    product = a*b\n",
    "    return summ, sub, product\n",
    "\n",
    "suma, resta, producto = multiarithmetic(10,5)\n",
    "print(f\"Suma: {suma}, resta: {resta}, producto {producto}\")"
   ]
  },
  {
   "cell_type": "markdown",
   "id": "e4b1a487-d305-4b37-b453-6bdf936b3c5d",
   "metadata": {},
   "source": [
    "# Funciones anonimas"
   ]
  },
  {
   "cell_type": "markdown",
   "id": "033e334b-c09f-4d58-b3ee-71523900c604",
   "metadata": {},
   "source": [
    "Tambien conocidas como funciones lambda, son funciones que no son nombradas pero pueden ser invocadas"
   ]
  },
  {
   "cell_type": "code",
   "execution_count": 9,
   "id": "817a4efe-8b00-4535-99de-ac7de3716f0f",
   "metadata": {},
   "outputs": [
    {
     "name": "stdout",
     "output_type": "stream",
     "text": [
      "[2, 10, 18, 2, 14, 4, 14, 10]\n"
     ]
    }
   ],
   "source": [
    "#Ejemplo, se usara una funcion lambda para convertir strings a numeros, multiplicarlos por dos y \n",
    "#colocarlos en una lista usando map()\n",
    "bunch_o_numbers = \"1 5 9 1 7 2 7 5\"\n",
    "bunch_o_doubled_numbers = list(map(lambda x: int(x)*2, bunch_o_numbers.split()))\n",
    "print(bunch_o_doubled_numbers)"
   ]
  },
  {
   "cell_type": "markdown",
   "id": "ce561c3a-3c0e-4ca8-bcc8-d91246936d2c",
   "metadata": {},
   "source": [
    "# Funciones como parametros"
   ]
  },
  {
   "cell_type": "markdown",
   "id": "675e8b2d-ab93-4f44-9afc-faeb1b76614d",
   "metadata": {},
   "source": [
    "En Python, las funciones tambien son objetos, por lo tanto pueden copiarse, pueden pasarse como parametros o crear funciones que reciban otras funciones como parametros"
   ]
  },
  {
   "cell_type": "code",
   "execution_count": 10,
   "id": "a30f2447-25fd-4642-9c6d-e31f9e58743b",
   "metadata": {},
   "outputs": [
    {
     "name": "stdout",
     "output_type": "stream",
     "text": [
      "[2, 10, 18, 2, 14, 4, 14, 10]\n"
     ]
    }
   ],
   "source": [
    "#Ejemplo, se repetira la funcion anterior, pero esta vez se usara una funcion nombrada para \n",
    "#llegar al mismo resultado\n",
    "def double_up(x):\n",
    "    return int(x)*2\n",
    "\n",
    "another_bunch_o_doubled_numbers = list(map(double_up, bunch_o_numbers.split()))\n",
    "print(another_bunch_o_doubled_numbers)"
   ]
  },
  {
   "cell_type": "code",
   "execution_count": 11,
   "id": "ca7999a4-efed-47b3-8471-a55c0405b277",
   "metadata": {},
   "outputs": [
    {
     "name": "stdout",
     "output_type": "stream",
     "text": [
      "12\n",
      "20\n"
     ]
    }
   ],
   "source": [
    "#Tambien se puede definir una fucion que espera alguna otra funcion como parametro\n",
    "def summ(a, b):\n",
    "    return a + b\n",
    "\n",
    "def prod(a, b):\n",
    "    return a * b\n",
    "\n",
    "def simple_math(func, a, b):\n",
    "    return func(a,b)\n",
    "\n",
    "print(simple_math(summ, 2, 10))\n",
    "print(simple_math(prod, 2, 10))"
   ]
  }
 ],
 "metadata": {
  "kernelspec": {
   "display_name": "Python 3 (ipykernel)",
   "language": "python",
   "name": "python3"
  },
  "language_info": {
   "codemirror_mode": {
    "name": "ipython",
    "version": 3
   },
   "file_extension": ".py",
   "mimetype": "text/x-python",
   "name": "python",
   "nbconvert_exporter": "python",
   "pygments_lexer": "ipython3",
   "version": "3.9.7"
  }
 },
 "nbformat": 4,
 "nbformat_minor": 5
}
